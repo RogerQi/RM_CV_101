{
 "cells": [
  {
   "cell_type": "markdown",
   "metadata": {},
   "source": [
    "## Introduction\n",
    "\n",
    "Welcome to RMCV 101! In this submodule, we will talk about basic Python concepts, tools, and methodology so that you can start working right away.\n",
    "\n",
    "We will be using **Python 3** and Jupyter Notebook throughout the entire submodule.\n",
    "\n",
    "### Prerequisites\n",
    "\n",
    "- Have installed Python 3 and Jupyter Notebook. If you haven't, visit INSTALL.md\n",
    "- Some programming background\n",
    "\n",
    "Ready? Let's get started! Before we start, you need to switch to the Jupyter Notebook on your local machine rather than viewing it on the GitHub. Otherwise you will not be able to write code."
   ]
  },
  {
   "cell_type": "markdown",
   "metadata": {},
   "source": [
    "### ... but how do I use Jupyter Notebook?\n",
    "\n",
    "In the last \"verification\" step back in the INSTALL.md, you ran\n",
    "\n",
    "```\n",
    "jupyter notebook\n",
    "```\n",
    "\n",
    "in some folder and there is a browser window popping up? That's how you are going to use the jupyter notebook. Pull up a new terminal session. Navigate to wherever this file is located in the terminal with command lines. Then run the magical 'jupyter notebook' command. After doing so you should see a browser window that looks like this\n",
    "\n",
    "<img src=\"./imgs/00_jupyter_navigation.jpg\" alt=\"drawing\" width=\"200\"/>\n",
    "\n",
    "Feel free to click any NoI (Notebook of Interest :D). Here we will choose `00_basic_operations.ipynb`. Now you should be seeing the content in the notebook on your browser.\n",
    "\n",
    "Unlike IDE/Editor, things in Jupyter Notebook are typically organized in **cells**. There are different types of cells. For most of the time, we play with **code** cells. Another frequently used type of cells is the **Markdown** cell. Let's talk about code cells first.\n",
    "\n",
    "Click on any code cell to highlight that particular cell. If you've followed the instruction and are running the Jupyter Notebook on your own machine, you should be able to edit the highlighted cell.\n",
    "\n",
    "To run the code segment in any highlighted cell, hit the \"Run\" button in the toolbar (or press `shift+return` on your keyboard). What's changed after hitting \"Run\"?\n",
    "\n",
    "Note that output from your code will be printed **below** the corresponding code cell.\n",
    "\n",
    "Now let's talk about Python."
   ]
  },
  {
   "cell_type": "markdown",
   "metadata": {},
   "source": [
    "### print statement\n",
    "\n",
    "Python has a print statement that works like C and many many other languages."
   ]
  },
  {
   "cell_type": "code",
   "execution_count": 1,
   "metadata": {},
   "outputs": [
    {
     "name": "stdout",
     "output_type": "stream",
     "text": [
      "Hello World!\n"
     ]
    }
   ],
   "source": [
    "print(\"Hello World!\")"
   ]
  },
  {
   "cell_type": "markdown",
   "metadata": {},
   "source": [
    "### Exercise\n",
    "\n",
    "Write a line of code that prints out \"Illini RM is awesome!\""
   ]
  },
  {
   "cell_type": "code",
   "execution_count": 2,
   "metadata": {},
   "outputs": [],
   "source": [
    "# Your code here"
   ]
  },
  {
   "cell_type": "markdown",
   "metadata": {},
   "source": [
    "### Data Types\n",
    "\n",
    "Now let's move on to data types. Unlike many languages, the highly dynamic nature of Python allows Python programmers to avoid the repetitive work of declaring data type (to bo precise, Python follows the philosophy of so-called Duck Typing)."
   ]
  },
  {
   "cell_type": "code",
   "execution_count": 3,
   "metadata": {},
   "outputs": [
    {
     "name": "stdout",
     "output_type": "stream",
     "text": [
      "1\n"
     ]
    }
   ],
   "source": [
    "a = 1     # a is an integer\n",
    "print(a)  # print statement in Python is highly dynamic as well..."
   ]
  },
  {
   "cell_type": "code",
   "execution_count": 4,
   "metadata": {},
   "outputs": [
    {
     "name": "stdout",
     "output_type": "stream",
     "text": [
      "2147483648\n"
     ]
    }
   ],
   "source": [
    "a = 1 << 31 # This almost gets to the upper bound of uint32_t!\n",
    "print(a)"
   ]
  },
  {
   "cell_type": "code",
   "execution_count": 5,
   "metadata": {},
   "outputs": [
    {
     "name": "stdout",
     "output_type": "stream",
     "text": [
      "36109768628918289680181237270032176609660606339767210966742701055988446142119009309210673492233648704399859345589716307754006457437790742301883204648784295036787367024590304587829068214346826643210695217080553232099119066551661246199664630858594053699110560125659505447329235914525667766141695080483044195420836646609268481232160720065016972047104891716446477617201152\n"
     ]
    }
   ],
   "source": [
    "a = 1 << 1221 # Will Python be able to handle this?\n",
    "print(a)"
   ]
  },
  {
   "cell_type": "code",
   "execution_count": 6,
   "metadata": {},
   "outputs": [
    {
     "name": "stdout",
     "output_type": "stream",
     "text": [
      "1.0\n"
     ]
    }
   ],
   "source": [
    "a = 1.0\n",
    "print(a)"
   ]
  },
  {
   "cell_type": "code",
   "execution_count": 7,
   "metadata": {},
   "outputs": [
    {
     "name": "stdout",
     "output_type": "stream",
     "text": [
      "I'm a string!\n"
     ]
    }
   ],
   "source": [
    "a = \"I'm a string!\"\n",
    "print(a)"
   ]
  },
  {
   "cell_type": "code",
   "execution_count": 8,
   "metadata": {},
   "outputs": [
    {
     "name": "stdout",
     "output_type": "stream",
     "text": [
      "[1, 2, 'list can hold different type of data', 1.2]\n",
      "<class 'int'>\n",
      "<class 'str'>\n",
      "<class 'float'>\n"
     ]
    }
   ],
   "source": [
    "# List\n",
    "a = [1, 2, \"list can hold different type of data\", 1.2]\n",
    "print(a)\n",
    "print(type(a[0])) # index starts from 0\n",
    "print(type(a[2]))\n",
    "print(type(a[3]))"
   ]
  },
  {
   "cell_type": "code",
   "execution_count": 9,
   "metadata": {},
   "outputs": [
    {
     "name": "stdout",
     "output_type": "stream",
     "text": [
      "(1, 'hey')\n"
     ]
    }
   ],
   "source": [
    "a = (1, \"hey\") # Tuples\n",
    "print(a)"
   ]
  },
  {
   "cell_type": "code",
   "execution_count": 10,
   "metadata": {},
   "outputs": [
    {
     "name": "stdout",
     "output_type": "stream",
     "text": [
      "[(1, 2), [2, 3, [5]]]\n"
     ]
    }
   ],
   "source": [
    "a = [(1, 2), [2, 3, [5]]] # Nested list/tuple\n",
    "print(a)"
   ]
  },
  {
   "cell_type": "markdown",
   "metadata": {},
   "source": [
    "### String Formatting\n",
    "\n",
    "String formatting in Python is intuitive."
   ]
  },
  {
   "cell_type": "code",
   "execution_count": 5,
   "metadata": {},
   "outputs": [
    {
     "name": "stdout",
     "output_type": "stream",
     "text": [
      "Illini RM is awesome! Illini RM has 10 robots!\n"
     ]
    }
   ],
   "source": [
    "s = \"{0} is {1}! {0} has {2} robots!\"\n",
    "print(s.format(\"Illini RM\", \"awesome\", 10))"
   ]
  },
  {
   "cell_type": "code",
   "execution_count": 6,
   "metadata": {},
   "outputs": [
    {
     "name": "stdout",
     "output_type": "stream",
     "text": [
      "Illini RM is awesome! Illini RM has 5 robots!\n"
     ]
    }
   ],
   "source": [
    "my_tuple = (\"Illini RM\", \"awesome\", 5) # List formatting in Python\n",
    "print(s.format(*my_tuple))"
   ]
  },
  {
   "cell_type": "code",
   "execution_count": 7,
   "metadata": {},
   "outputs": [
    {
     "name": "stdout",
     "output_type": "stream",
     "text": [
      "Illini RM is awesome! Illini RM has 10 robots!\n"
     ]
    }
   ],
   "source": [
    "s = \"{1} is {0}! {1} has {2} robots!\" # the order of indices can be changed as well\n",
    "print(s.format(\"awesome\", \"Illini RM\", 10))"
   ]
  },
  {
   "cell_type": "markdown",
   "metadata": {},
   "source": [
    "### Exercise\n",
    "\n",
    "Make a tuple such that the following code prints out:\n",
    "Bob is smart! Bob has RoboMaster S1 robots!"
   ]
  },
  {
   "cell_type": "code",
   "execution_count": 8,
   "metadata": {},
   "outputs": [
    {
     "ename": "IndexError",
     "evalue": "tuple index out of range",
     "output_type": "error",
     "traceback": [
      "\u001b[0;31m---------------------------------------------------------------------------\u001b[0m",
      "\u001b[0;31mIndexError\u001b[0m                                Traceback (most recent call last)",
      "\u001b[0;32m<ipython-input-8-57f963d5d261>\u001b[0m in \u001b[0;36m<module>\u001b[0;34m\u001b[0m\n\u001b[1;32m      1\u001b[0m \u001b[0mmy_tuple\u001b[0m \u001b[0;34m=\u001b[0m \u001b[0;34m(\u001b[0m\u001b[0;34m)\u001b[0m \u001b[0;31m# Finish this\u001b[0m\u001b[0;34m\u001b[0m\u001b[0;34m\u001b[0m\u001b[0m\n\u001b[0;32m----> 2\u001b[0;31m \u001b[0mprint\u001b[0m\u001b[0;34m(\u001b[0m\u001b[0ms\u001b[0m\u001b[0;34m.\u001b[0m\u001b[0mformat\u001b[0m\u001b[0;34m(\u001b[0m\u001b[0;34m*\u001b[0m\u001b[0mmy_tuple\u001b[0m\u001b[0;34m)\u001b[0m\u001b[0;34m)\u001b[0m\u001b[0;34m\u001b[0m\u001b[0;34m\u001b[0m\u001b[0m\n\u001b[0m",
      "\u001b[0;31mIndexError\u001b[0m: tuple index out of range"
     ]
    }
   ],
   "source": [
    "my_tuple = () # Finish this\n",
    "print(s.format(*my_tuple))"
   ]
  },
  {
   "cell_type": "markdown",
   "metadata": {},
   "source": [
    "### if/for\n",
    "The `if` control flow is very straight forward. "
   ]
  },
  {
   "cell_type": "code",
   "execution_count": 57,
   "metadata": {},
   "outputs": [
    {
     "name": "stdout",
     "output_type": "stream",
     "text": [
      "The condition is true\n",
      "One thousand is greater than one and 1 is an element of {1,2,3}.\n",
      "R in Rob in Robomaster in IlliniRobomaster\n",
      "40~50\n"
     ]
    }
   ],
   "source": [
    "if (True): print(\"The condition is true\")\n",
    "if(not True): print(\"Never got printed\")\n",
    "\n",
    "if (10000 >= 1 and (1 in {1,2,3})): print(\"One thousand is greater than one and 1 is an element of {1,2,3}.\")\n",
    "\n",
    "if(\"R\" in \"Rob\" in \"Robomaster\" in \"IlliniRobomaster\"):print(\"R in Rob in Robomaster in IlliniRobomaster\")\n",
    "    \n",
    "# It is worth noticing that scripting languages like python may not error until code is executed.\n",
    "if (False):\n",
    "    bug = 1000 / 0\n",
    "\n",
    "temperature = 41  #CHANGE ME\n",
    "\n",
    "if (temperature > 50): print(\"50+\")\n",
    "elif (40 < temperature <= 50): print(\"40~50\")\n",
    "else: print(\"40-\")"
   ]
  },
  {
   "cell_type": "markdown",
   "metadata": {},
   "source": [
    "The `for` control flow have many usages."
   ]
  },
  {
   "cell_type": "code",
   "execution_count": 42,
   "metadata": {},
   "outputs": [
    {
     "name": "stdout",
     "output_type": "stream",
     "text": [
      "[-2, -1, 0, 1, 2, 3, 4, 5, 6, 7, 8, 9, 10]\n",
      "a\n",
      "b\n",
      "1\n",
      "True\n",
      "['another', 'list']\n",
      "[1, 3]\n",
      "[1, 4, 9, 16, 25]\n"
     ]
    }
   ],
   "source": [
    "# When used with range() it is a traditional for loop\n",
    "output=[]\n",
    "for i in range(-2,11):#This goes from -2 to 10\n",
    "   output+=[i]\n",
    "print(output)\n",
    "\n",
    "# It allows easy transverse of any lists-like data structures\n",
    "some_list=[\"a\",\"b\",1,True,[\"another\",\"list\"]]\n",
    "for item in some_list: print(str(item))\n",
    "\n",
    "# Use `continue` to skip to next loop and `break` to break out the loop;\n",
    "output=[]\n",
    "for i in range(1,10):\n",
    "    if(i%2==0):continue\n",
    "    if(i==5):break\n",
    "    output+=[i]\n",
    "print(output)\n",
    "\n",
    "# `for` can also be used to construct lists in a one-liner\n",
    "\n",
    "sugar = [x**2 for x in [1,2,3,4,5]]\n",
    "print(sugar)"
   ]
  },
  {
   "cell_type": "markdown",
   "metadata": {},
   "source": [
    "### Exercise\n",
    "Write some code to print out all food items in the list. "
   ]
  },
  {
   "cell_type": "code",
   "execution_count": 52,
   "metadata": {},
   "outputs": [],
   "source": [
    "my_set=[1,\"cheese stake(food)\", \"cheese steak(food)\", True, \"Alma Mater(food?)\", \"Pop Tarts(food!)\",\"foodn't\"]"
   ]
  },
  {
   "cell_type": "markdown",
   "metadata": {},
   "source": [
    "### function\n",
    "A function in python is what you would expect in most languages. "
   ]
  },
  {
   "cell_type": "code",
   "execution_count": 78,
   "metadata": {},
   "outputs": [
    {
     "name": "stdout",
     "output_type": "stream",
     "text": [
      "515377520732011331036461129765621272702107522001\n",
      "[2, 8, 24]\n",
      "1\n",
      "1\n",
      "2\n",
      "3\n",
      "5\n",
      "8\n",
      "13\n",
      "21\n",
      "34\n",
      "55\n",
      "89\n",
      "144\n",
      "233\n",
      "377\n",
      "610\n",
      "987\n"
     ]
    }
   ],
   "source": [
    "def callme(x):\n",
    "    y = 100\n",
    "\n",
    "    # Define functions anywhere and use them by their name\n",
    "    def helper1(x):\n",
    "        # y is invisible here\n",
    "        return x + 1\n",
    "\n",
    "    # Define lambda functions if you wish to use variables inside current scope\n",
    "    y = 100\n",
    "\n",
    "    def poooowwer(z):\n",
    "        return z**y\n",
    "\n",
    "    return poooowwer(helper1(x))\n",
    "\n",
    "\n",
    "print(callme(2))\n",
    "\n",
    "# We usually pass lambda functions around for all sorts of purposes\n",
    "\n",
    "\n",
    "def lambda_applier(list_to_apply_lambda, lambda_to_apply):\n",
    "    ret = []\n",
    "    for i in list_to_apply_lambda:\n",
    "        ret += [lambda_to_apply(i)]\n",
    "    return ret\n",
    "\n",
    "\n",
    "print(lambda_applier([1, 2, 3], lambda x: x << x))\n",
    "\n",
    "\n",
    "# Recursion works as usual\n",
    "def generate_series(x, y):\n",
    "    if (x > 999):\n",
    "        return\n",
    "    print(x)\n",
    "    generate_series(y, x + y)\n",
    "\n",
    "\n",
    "generate_series(1, 1)"
   ]
  },
  {
   "cell_type": "markdown",
   "metadata": {},
   "source": [
    "### Exercise\n",
    "Package a few previous excercises into functions and make them accept variable parameters. "
   ]
  },
  {
   "cell_type": "markdown",
   "metadata": {},
   "source": [
    "### Class\n",
    "Classes are a way of packaging functions and data into one data structure for easier abstraction"
   ]
  },
  {
   "cell_type": "code",
   "execution_count": 86,
   "metadata": {},
   "outputs": [
    {
     "name": "stdout",
     "output_type": "stream",
     "text": [
      "John of age 998 is born...\n",
      "John just got more life experience\n",
      "John\n",
      "999\n",
      "Peter of age 60 is born...\n",
      "Peter just got more life experience and -1s\n",
      "Peteris running very fast!\n",
      "Peter\n",
      "59\n"
     ]
    }
   ],
   "source": [
    "# Copied from https://www.w3schools.com/python/python_classes.asp\n",
    "class Person:\n",
    "    # We can hold default member values here\n",
    "    name = \"Unnamed\"\n",
    "    age = -1\n",
    "\n",
    "    # the __init__ constructor is called whenever a Person class is created\n",
    "    def __init__(self, name, age):\n",
    "        print(str(name) + \" of age \" + str(age) + \" is born...\")\n",
    "        self.name = name\n",
    "        self.age = age\n",
    "\n",
    "    def grow(self):\n",
    "        print(str(self.name) + \" just got more life experience\")\n",
    "        self.age += 1\n",
    "\n",
    "\n",
    "p1 = Person(\"John\", 998)\n",
    "p1.grow()\n",
    "print(p1.name)\n",
    "print(p1.age)\n",
    "\n",
    "\n",
    "#-----------------------------------------------------------\n",
    "# The Journalist class inherits Person, having everything from Person class plus its on data members & methods.\n",
    "class Journalist(Person):\n",
    "    def grow(self):\n",
    "        print(str(self.name) + \" just got more life experience and -1s\")\n",
    "        self.age -= 1\n",
    "\n",
    "    def run(self):\n",
    "        print(self.name + \"is running very fast!\")\n",
    "\n",
    "\n",
    "p1 = Journalist(\"Peter\", 60)\n",
    "p1.grow()\n",
    "p1.run()\n",
    "print(p1.age)"
   ]
  },
  {
   "cell_type": "markdown",
   "metadata": {},
   "source": [
    "### Exercise\n",
    "Write classes of Person, Rock, Paper, Scissor, HandGrenade, and a function accpeting two classes and print out the winner. "
   ]
  },
  {
   "cell_type": "code",
   "execution_count": null,
   "metadata": {},
   "outputs": [],
   "source": [
    "# Write your code here"
   ]
  },
  {
   "cell_type": "markdown",
   "metadata": {},
   "source": [
    "### Imports\n",
    "The keyword imports allows you to use external libiaries"
   ]
  },
  {
   "cell_type": "code",
   "execution_count": null,
   "metadata": {},
   "outputs": [],
   "source": [
    "# This will install a commonly used multi-dimensional data operation libriary for you\n",
    "!pip3 install numpy -U"
   ]
  },
  {
   "cell_type": "code",
   "execution_count": 90,
   "metadata": {
    "scrolled": true
   },
   "outputs": [
    {
     "name": "stdout",
     "output_type": "stream",
     "text": [
      "[[[4.70082894e-01 3.56413740e-01 4.01277769e-01 ... 2.69860626e-01\n",
      "   6.58372657e-02 9.89191256e-01]\n",
      "  [1.25355163e-01 7.73833474e-01 1.75399930e-01 ... 3.31081547e-01\n",
      "   2.73620321e-01 6.84112357e-01]\n",
      "  [2.87666320e-01 5.74205104e-01 3.87470169e-02 ... 1.22478675e-01\n",
      "   6.72696593e-01 6.78994197e-01]\n",
      "  ...\n",
      "  [9.34452600e-01 3.75700006e-01 1.36092245e-01 ... 5.47112901e-01\n",
      "   3.72235671e-01 4.19376625e-01]\n",
      "  [6.54174771e-01 6.09703551e-01 5.15175161e-01 ... 6.66962891e-01\n",
      "   7.27955769e-01 5.82521884e-01]\n",
      "  [7.88463629e-01 2.77127486e-01 3.01464946e-01 ... 7.16279842e-01\n",
      "   9.57600072e-01 2.51842474e-01]]\n",
      "\n",
      " [[6.06015447e-01 2.14652680e-01 2.63685929e-01 ... 8.92373841e-01\n",
      "   2.64660534e-01 6.38216584e-01]\n",
      "  [2.43712842e-01 1.59523607e-01 3.27762116e-01 ... 6.57272717e-02\n",
      "   8.31502223e-01 4.87733472e-02]\n",
      "  [3.59552590e-01 8.67068927e-01 8.99003177e-01 ... 8.59929314e-01\n",
      "   1.02056586e-01 2.66164631e-01]\n",
      "  ...\n",
      "  [2.09583033e-01 2.72284205e-01 6.46163861e-01 ... 6.69845733e-01\n",
      "   4.97549306e-01 7.35952497e-01]\n",
      "  [5.62093828e-01 7.45136747e-02 3.69860715e-01 ... 1.56017372e-01\n",
      "   7.06735895e-01 7.05214483e-01]\n",
      "  [6.70439792e-01 4.13432060e-01 9.50298321e-01 ... 1.94624532e-01\n",
      "   2.97253303e-01 8.62397405e-01]]\n",
      "\n",
      " [[3.10680996e-01 7.85528617e-01 9.34356302e-01 ... 4.62584723e-01\n",
      "   1.78325976e-01 3.48374562e-01]\n",
      "  [3.90795098e-01 1.92858918e-01 3.33594681e-01 ... 6.45281453e-02\n",
      "   1.70510696e-01 2.26077365e-01]\n",
      "  [1.46231433e-01 1.77957827e-01 2.22626125e-01 ... 9.31484388e-01\n",
      "   3.39771374e-01 2.73892141e-01]\n",
      "  ...\n",
      "  [2.98810423e-01 3.33620319e-01 4.87985697e-01 ... 7.52659761e-01\n",
      "   1.78695231e-01 3.08515145e-01]\n",
      "  [9.47524683e-01 5.56925227e-01 5.66557386e-01 ... 2.84822574e-01\n",
      "   6.25411145e-01 4.03104405e-01]\n",
      "  [7.32049720e-01 8.70138095e-01 3.88275366e-01 ... 8.64562035e-01\n",
      "   8.79957655e-01 1.99983020e-01]]\n",
      "\n",
      " ...\n",
      "\n",
      " [[4.07441113e-01 5.78378859e-01 8.76641147e-01 ... 3.97003676e-01\n",
      "   1.98937344e-02 4.88396985e-01]\n",
      "  [6.37753044e-01 2.06793586e-01 5.77606194e-01 ... 6.33750669e-01\n",
      "   6.52783158e-01 5.24321013e-01]\n",
      "  [2.75539610e-01 2.44171067e-01 3.11714733e-01 ... 3.65550438e-01\n",
      "   3.14484479e-01 6.66234974e-01]\n",
      "  ...\n",
      "  [1.48958361e-01 7.24126089e-02 2.63092826e-01 ... 9.57617551e-01\n",
      "   5.30693345e-01 5.87807208e-01]\n",
      "  [9.72932165e-01 2.84637416e-01 2.94098771e-01 ... 4.04867006e-01\n",
      "   8.20120712e-01 7.50547948e-01]\n",
      "  [9.30377005e-01 9.84964509e-01 2.00059720e-01 ... 3.48358875e-01\n",
      "   2.62710522e-01 9.19581057e-01]]\n",
      "\n",
      " [[3.28070707e-01 5.40125330e-01 9.11311966e-01 ... 8.43177843e-01\n",
      "   4.28506201e-01 4.81172576e-01]\n",
      "  [3.95983436e-01 9.74977572e-01 2.52493879e-01 ... 8.10227623e-01\n",
      "   7.65680313e-01 7.16549638e-01]\n",
      "  [7.54847985e-01 2.66412885e-01 8.06299607e-01 ... 8.96956952e-01\n",
      "   1.58669984e-01 6.39079971e-04]\n",
      "  ...\n",
      "  [8.22884470e-01 2.58633842e-01 8.84012852e-01 ... 4.64123960e-02\n",
      "   6.45964401e-01 7.79026853e-02]\n",
      "  [3.22638801e-02 2.45007397e-01 3.41315028e-01 ... 2.97544676e-02\n",
      "   1.84755804e-01 1.28032549e-01]\n",
      "  [7.05482601e-01 9.48355166e-01 2.95855141e-01 ... 9.70292224e-01\n",
      "   7.03278551e-01 5.00729060e-01]]\n",
      "\n",
      " [[5.85325462e-01 2.69835068e-01 6.92308474e-01 ... 9.01819802e-01\n",
      "   4.53881127e-02 5.74611138e-01]\n",
      "  [6.68571744e-01 3.60019373e-01 6.03103555e-01 ... 9.29396774e-01\n",
      "   3.24727586e-02 1.85484122e-01]\n",
      "  [1.80122443e-02 4.24861902e-01 7.50669598e-01 ... 7.02950751e-01\n",
      "   6.82793916e-01 3.42636633e-01]\n",
      "  ...\n",
      "  [7.39067796e-01 4.04423767e-01 6.13901565e-01 ... 2.51093499e-01\n",
      "   2.97886631e-01 5.85930394e-01]\n",
      "  [4.98579683e-01 7.06446958e-01 9.17108192e-02 ... 7.11839599e-01\n",
      "   5.68623036e-01 5.06094892e-01]\n",
      "  [3.81730880e-01 9.05357129e-01 5.02467801e-01 ... 8.46195204e-01\n",
      "   7.79146029e-01 2.95083311e-01]]]\n"
     ]
    }
   ],
   "source": [
    "import numpy as np\n",
    "from numpy import random\n",
    "\n",
    "arr = np.zeros([19, 23, 31]) \n",
    "arr += random.rand(*[19, 23, 31]) # This way we can use functions otherwise unavail to us\n",
    "\n",
    "print(arr)\n",
    "\n",
    "# We will probably cover more usage of various libiaries later"
   ]
  },
  {
   "cell_type": "code",
   "execution_count": null,
   "metadata": {},
   "outputs": [],
   "source": []
  }
 ],
 "metadata": {
  "kernelspec": {
   "display_name": "Python 3",
   "language": "python",
   "name": "python3"
  },
  "language_info": {
   "codemirror_mode": {
    "name": "ipython",
    "version": 3
   },
   "file_extension": ".py",
   "mimetype": "text/x-python",
   "name": "python",
   "nbconvert_exporter": "python",
   "pygments_lexer": "ipython3",
   "version": "3.6.8"
  },
  "latex_envs": {
   "LaTeX_envs_menu_present": true,
   "autoclose": true,
   "autocomplete": true,
   "bibliofile": "biblio.bib",
   "cite_by": "apalike",
   "current_citInitial": 1,
   "eqLabelWithNumbers": true,
   "eqNumInitial": 1,
   "hotkeys": {
    "equation": "Ctrl-E",
    "itemize": "Ctrl-I"
   },
   "labels_anchors": false,
   "latex_user_defs": false,
   "report_style_numbering": false,
   "user_envs_cfg": false
  },
  "varInspector": {
   "cols": {
    "lenName": 16,
    "lenType": 16,
    "lenVar": 40
   },
   "kernels_config": {
    "python": {
     "delete_cmd_postfix": "",
     "delete_cmd_prefix": "del ",
     "library": "var_list.py",
     "varRefreshCmd": "print(var_dic_list())"
    },
    "r": {
     "delete_cmd_postfix": ") ",
     "delete_cmd_prefix": "rm(",
     "library": "var_list.r",
     "varRefreshCmd": "cat(var_dic_list()) "
    }
   },
   "types_to_exclude": [
    "module",
    "function",
    "builtin_function_or_method",
    "instance",
    "_Feature"
   ],
   "window_display": false
  }
 },
 "nbformat": 4,
 "nbformat_minor": 2
}
