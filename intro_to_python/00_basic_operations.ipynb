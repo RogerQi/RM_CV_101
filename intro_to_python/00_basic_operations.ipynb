{
 "cells": [
  {
   "cell_type": "markdown",
   "metadata": {},
   "source": [
    "## Introduction\n",
    "\n",
    "Welcome to RMCV 101! In this submodule, we will talk about basic Python concepts, tools, and methodology so that you can start working right away.\n",
    "\n",
    "We will be using **Python 3** and Jupyter Notebook throughout the entire submodule.\n",
    "\n",
    "### Prerequisites\n",
    "\n",
    "- Have installed Python 3 and Jupyter Notebook. If you haven't, visit INSTALL.md\n",
    "- Some programming background\n",
    "\n",
    "Ready? Let's get started! Before we start, you need to switch to the Jupyter Notebook on your local machine rather than viewing it on the GitHub. Otherwise you will not be able to write code."
   ]
  },
  {
   "cell_type": "markdown",
   "metadata": {},
   "source": [
    "### ... but how do I use Jupyter Notebook?\n",
    "\n",
    "In the last \"verification\" step back in the INSTALL.md, you ran\n",
    "\n",
    "```\n",
    "jupyter notebook\n",
    "```\n",
    "\n",
    "in some folder and there is a browser window popping up? That's how you are going to use the jupyter notebook. Pull up a new terminal session. Navigate to wherever this file is located in the terminal with command lines. Then run the magical 'jupyter notebook' command. After doing so you should see a browser window that looks like this\n",
    "\n",
    "<img src=\"./imgs/00_jupyter_navigation.jpg\" alt=\"drawing\" width=\"200\"/>\n",
    "\n",
    "Feel free to click any NoI (Notebook of Interest :D). Here we will choose `00_basic_operations.ipynb`. Now you should be seeing the content in the notebook on your browser.\n",
    "\n",
    "Unlike IDE/Editor, things in Jupyter Notebook are typically organized in **cells**. There are different types of cells. For most of the time, we play with **code** cells. Another frequently used type of cells is the **Markdown** cell. Let's talk about code cells first.\n",
    "\n",
    "Click on any code cell to highlight that particular cell. If you've followed the instruction and are running the Jupyter Notebook on your own machine, you should be able to edit the highlighted cell.\n",
    "\n",
    "To run the code segment in any highlighted cell, hit the \"Run\" button in the toolbar (or press `shift+return` on your keyboard). What's changed after hitting \"Run\"?\n",
    "\n",
    "Note that output from your code will be printed **below** the corresponding code cell.\n",
    "\n",
    "Now let's talk about Python."
   ]
  },
  {
   "cell_type": "markdown",
   "metadata": {},
   "source": [
    "### print statement\n",
    "\n",
    "Python has a print statement that works like C and many many other languages."
   ]
  },
  {
   "cell_type": "code",
   "execution_count": 1,
   "metadata": {},
   "outputs": [
    {
     "name": "stdout",
     "output_type": "stream",
     "text": [
      "Hello World!\n"
     ]
    }
   ],
   "source": [
    "print(\"Hello World!\")"
   ]
  },
  {
   "cell_type": "markdown",
   "metadata": {},
   "source": [
    "### Exercise\n",
    "\n",
    "Write a line of code that prints out \"Illini RM is awesome!\""
   ]
  },
  {
   "cell_type": "code",
   "execution_count": 2,
   "metadata": {},
   "outputs": [],
   "source": [
    "# Your code here"
   ]
  },
  {
   "cell_type": "markdown",
   "metadata": {},
   "source": [
    "### Data Types\n",
    "\n",
    "Now let's move on to data types. Unlike many languages, the highly dynamic nature of Python allows Python programmers to avoid the repetitive work of declaring data type (to bo precise, Python follows the philosophy of so-called Duck Typing)."
   ]
  },
  {
   "cell_type": "code",
   "execution_count": 3,
   "metadata": {},
   "outputs": [
    {
     "name": "stdout",
     "output_type": "stream",
     "text": [
      "1\n"
     ]
    }
   ],
   "source": [
    "a = 1     # a is an integer\n",
    "print(a)  # print statement in Python is highly dynamic as well..."
   ]
  },
  {
   "cell_type": "code",
   "execution_count": 4,
   "metadata": {},
   "outputs": [
    {
     "name": "stdout",
     "output_type": "stream",
     "text": [
      "2147483648\n"
     ]
    }
   ],
   "source": [
    "a = 1 << 31 # This almost gets to the upper bound of uint32_t!\n",
    "print(a)"
   ]
  },
  {
   "cell_type": "code",
   "execution_count": 5,
   "metadata": {},
   "outputs": [
    {
     "name": "stdout",
     "output_type": "stream",
     "text": [
      "36109768628918289680181237270032176609660606339767210966742701055988446142119009309210673492233648704399859345589716307754006457437790742301883204648784295036787367024590304587829068214346826643210695217080553232099119066551661246199664630858594053699110560125659505447329235914525667766141695080483044195420836646609268481232160720065016972047104891716446477617201152\n"
     ]
    }
   ],
   "source": [
    "a = 1 << 1221 # Will Python be able to handle this?\n",
    "print(a)"
   ]
  },
  {
   "cell_type": "code",
   "execution_count": 6,
   "metadata": {},
   "outputs": [
    {
     "name": "stdout",
     "output_type": "stream",
     "text": [
      "1.0\n"
     ]
    }
   ],
   "source": [
    "a = 1.0\n",
    "print(a)"
   ]
  },
  {
   "cell_type": "code",
   "execution_count": 7,
   "metadata": {},
   "outputs": [
    {
     "name": "stdout",
     "output_type": "stream",
     "text": [
      "I'm a string!\n"
     ]
    }
   ],
   "source": [
    "a = \"I'm a string!\"\n",
    "print(a)"
   ]
  },
  {
   "cell_type": "code",
   "execution_count": 8,
   "metadata": {},
   "outputs": [
    {
     "name": "stdout",
     "output_type": "stream",
     "text": [
      "[1, 2, 'list can hold different type of data', 1.2]\n",
      "<class 'int'>\n",
      "<class 'str'>\n",
      "<class 'float'>\n"
     ]
    }
   ],
   "source": [
    "# List\n",
    "a = [1, 2, \"list can hold different type of data\", 1.2]\n",
    "print(a)\n",
    "print(type(a[0])) # index starts from 0\n",
    "print(type(a[2]))\n",
    "print(type(a[3]))"
   ]
  },
  {
   "cell_type": "code",
   "execution_count": 9,
   "metadata": {},
   "outputs": [
    {
     "name": "stdout",
     "output_type": "stream",
     "text": [
      "(1, 'hey')\n"
     ]
    }
   ],
   "source": [
    "a = (1, \"hey\") # Tuples\n",
    "print(a)"
   ]
  },
  {
   "cell_type": "code",
   "execution_count": 10,
   "metadata": {},
   "outputs": [
    {
     "name": "stdout",
     "output_type": "stream",
     "text": [
      "[(1, 2), [2, 3, [5]]]\n"
     ]
    }
   ],
   "source": [
    "a = [(1, 2), [2, 3, [5]]] # Nested list/tuple\n",
    "print(a)"
   ]
  },
  {
   "cell_type": "markdown",
   "metadata": {},
   "source": [
    "**Dictionary** is probably the essence of Python programming that it worths a Markdown cell for introducing it :D\n",
    "\n",
    "The backend of **Dictionary** is a *hashtable*. As you have learnt (or will have learnt) from CS225, access to/from hashtable is $O(1)$, which is a very desriable property when there is a large amount of key/value pairs."
   ]
  },
  {
   "cell_type": "code",
   "execution_count": 11,
   "metadata": {},
   "outputs": [
    {
     "name": "stdout",
     "output_type": "stream",
     "text": [
      "dict_keys(['hey', \"I'm\", 'dictionary!', 1221])\n",
      "dict_values(['you!', 'a', 42, 42])\n",
      "you!\n",
      "42\n"
     ]
    }
   ],
   "source": [
    "a = {\"hey\": \"you!\", \"I'm\": \"a\", \"dictionary!\": 42, 1221: 42}\n",
    "print(a.keys())\n",
    "print(a.values())\n",
    "print(a[\"hey\"])\n",
    "print(a[1221])"
   ]
  },
  {
   "cell_type": "markdown",
   "metadata": {},
   "source": [
    "### String Formatting\n",
    "\n",
    "String formatting in Python is intuitive."
   ]
  },
  {
   "cell_type": "code",
   "execution_count": 12,
   "metadata": {},
   "outputs": [
    {
     "name": "stdout",
     "output_type": "stream",
     "text": [
      "Illini RM is awesome! Illini RM has 10 robots!\n"
     ]
    }
   ],
   "source": [
    "s = \"{0} is {1}! {0} has {2} robots!\"\n",
    "print(s.format(\"Illini RM\", \"awesome\", 10))"
   ]
  },
  {
   "cell_type": "code",
   "execution_count": 13,
   "metadata": {},
   "outputs": [
    {
     "name": "stdout",
     "output_type": "stream",
     "text": [
      "Illini RM is awesome! Illini RM has 5 robots!\n"
     ]
    }
   ],
   "source": [
    "my_tuple = (\"Illini RM\", \"awesome\", 5) # List formatting in Python\n",
    "print(s.format(*my_tuple))"
   ]
  },
  {
   "cell_type": "code",
   "execution_count": 14,
   "metadata": {},
   "outputs": [
    {
     "name": "stdout",
     "output_type": "stream",
     "text": [
      "Illini RM is awesome! Illini RM has 10 robots!\n"
     ]
    }
   ],
   "source": [
    "s = \"{1} is {0}! {1} has {2} robots!\" # the order of indices can be changed as well\n",
    "print(s.format(\"awesome\", \"Illini RM\", 10))"
   ]
  },
  {
   "cell_type": "markdown",
   "metadata": {},
   "source": [
    "### Exercise\n",
    "\n",
    "Make a tuple such that the following code prints out:\n",
    "Bob is smart! Bob has RoboMaster S1 robots!"
   ]
  },
  {
   "cell_type": "code",
   "execution_count": null,
   "metadata": {},
   "outputs": [],
   "source": [
    "my_tuple = () # Fill in my_tuple\n",
    "print(s.format(*my_tuple)) # This automatically takes all elements in my_tuple as parameters"
   ]
  },
  {
   "cell_type": "markdown",
   "metadata": {},
   "source": [
    "### if/for\n",
    "The `if` control flow is very straight forward. "
   ]
  },
  {
   "cell_type": "code",
   "execution_count": 15,
   "metadata": {},
   "outputs": [
    {
     "name": "stdout",
     "output_type": "stream",
     "text": [
      "The condition is true\n",
      "One thousand is greater than one and 1 is an element of {1,2,3}.\n",
      "R in Rob in Robomaster in IlliniRobomaster\n",
      "40~50\n"
     ]
    }
   ],
   "source": [
    "if (True): print(\"The condition is true\")\n",
    "if(not True): print(\"Never got printed\")\n",
    "\n",
    "if (10000 >= 1 and (1 in {1,2,3})): print(\"One thousand is greater than one and 1 is an element of {1,2,3}.\")\n",
    "\n",
    "if(\"R\" in \"Rob\" in \"Robomaster\" in \"IlliniRobomaster\"):print(\"R in Rob in Robomaster in IlliniRobomaster\")\n",
    "    \n",
    "# It is worth noticing that scripting languages like python may not error until code is executed.\n",
    "if (False):\n",
    "    bug = 1000 / 0\n",
    "\n",
    "temperature = 41  #CHANGE ME\n",
    "\n",
    "if (temperature > 50): print(\"50+\")\n",
    "elif (40 < temperature <= 50): print(\"40~50\")\n",
    "else: print(\"40-\")"
   ]
  },
  {
   "cell_type": "markdown",
   "metadata": {},
   "source": [
    "The `for` control flow have many usages."
   ]
  },
  {
   "cell_type": "code",
   "execution_count": 16,
   "metadata": {},
   "outputs": [
    {
     "name": "stdout",
     "output_type": "stream",
     "text": [
      "[-2, -1, 0, 1, 2, 3, 4, 5, 6, 7, 8, 9, 10]\n",
      "a\n",
      "b\n",
      "1\n",
      "True\n",
      "['another', 'list']\n",
      "[1, 3]\n",
      "[1, 4, 9, 16, 25]\n"
     ]
    }
   ],
   "source": [
    "# When used with range() it is a traditional for loop\n",
    "output=[]\n",
    "for i in range(-2,11):#This goes from -2 to 10\n",
    "   output+=[i]\n",
    "print(output)\n",
    "\n",
    "# It allows easy transverse of any lists-like data structures\n",
    "some_list=[\"a\",\"b\",1,True,[\"another\",\"list\"]]\n",
    "for item in some_list: print(str(item))\n",
    "\n",
    "# Use `continue` to skip to next loop and `break` to break out the loop;\n",
    "output=[]\n",
    "for i in range(1,10):\n",
    "    if(i%2==0):continue\n",
    "    if(i==5):break\n",
    "    output+=[i]\n",
    "print(output)\n",
    "\n",
    "# `for` can also be used to construct lists in a one-liner\n",
    "\n",
    "sugar = [x**2 for x in [1,2,3,4,5]]\n",
    "print(sugar)"
   ]
  },
  {
   "cell_type": "markdown",
   "metadata": {},
   "source": [
    "### Exercise\n",
    "Write some code to print out all food items in the list. "
   ]
  },
  {
   "cell_type": "code",
   "execution_count": 17,
   "metadata": {},
   "outputs": [],
   "source": [
    "my_set=[1,\"cheese stake(food)\", \"cheese steak(food)\", True, \"Alma Mater(food?)\", \"Pop Tarts(food!)\",\"foodn't\"]"
   ]
  },
  {
   "cell_type": "markdown",
   "metadata": {},
   "source": [
    "### function\n",
    "A function in python is what you would expect in most languages. "
   ]
  },
  {
   "cell_type": "code",
   "execution_count": 18,
   "metadata": {},
   "outputs": [
    {
     "name": "stdout",
     "output_type": "stream",
     "text": [
      "515377520732011331036461129765621272702107522001\n",
      "[2, 8, 24]\n",
      "1\n",
      "1\n",
      "2\n",
      "3\n",
      "5\n",
      "8\n",
      "13\n",
      "21\n",
      "34\n",
      "55\n",
      "89\n",
      "144\n",
      "233\n",
      "377\n",
      "610\n",
      "987\n"
     ]
    }
   ],
   "source": [
    "def callme(x):\n",
    "    y = 100\n",
    "\n",
    "    # Define functions anywhere and use them by their name\n",
    "    def helper1(x):\n",
    "        # y is invisible here\n",
    "        return x + 1\n",
    "\n",
    "    # Define lambda functions if you wish to use variables inside current scope\n",
    "    y = 100\n",
    "\n",
    "    def poooowwer(z):\n",
    "        return z**y\n",
    "\n",
    "    return poooowwer(helper1(x))\n",
    "\n",
    "\n",
    "print(callme(2))\n",
    "\n",
    "# We usually pass lambda functions around for all sorts of purposes\n",
    "\n",
    "\n",
    "def lambda_applier(list_to_apply_lambda, lambda_to_apply):\n",
    "    ret = []\n",
    "    for i in list_to_apply_lambda:\n",
    "        ret += [lambda_to_apply(i)]\n",
    "    return ret\n",
    "\n",
    "\n",
    "print(lambda_applier([1, 2, 3], lambda x: x << x))\n",
    "\n",
    "\n",
    "# Recursion works as usual\n",
    "def generate_series(x, y):\n",
    "    if (x > 999):\n",
    "        return\n",
    "    print(x)\n",
    "    generate_series(y, x + y)\n",
    "\n",
    "\n",
    "generate_series(1, 1)"
   ]
  },
  {
   "cell_type": "markdown",
   "metadata": {},
   "source": [
    "### Exercise\n",
    "Package a few previous excercises into functions and make them accept variable parameters. "
   ]
  },
  {
   "cell_type": "markdown",
   "metadata": {},
   "source": [
    "### Class\n",
    "Classes are a way of packaging functions and data into one data structure for easier abstraction"
   ]
  },
  {
   "cell_type": "code",
   "execution_count": 19,
   "metadata": {},
   "outputs": [
    {
     "name": "stdout",
     "output_type": "stream",
     "text": [
      "John of age 998 is born...\n",
      "John just got more life experience\n",
      "John\n",
      "999\n",
      "Peter of age 60 is born...\n",
      "Peter just got more life experience and -1s\n",
      "Peteris running very fast!\n",
      "59\n"
     ]
    }
   ],
   "source": [
    "# Copied from https://www.w3schools.com/python/python_classes.asp\n",
    "class Person:\n",
    "    # We can hold default member values here\n",
    "    name = \"Unnamed\"\n",
    "    age = -1\n",
    "\n",
    "    # the __init__ constructor is called whenever a Person class is created\n",
    "    def __init__(self, name, age):\n",
    "        print(str(name) + \" of age \" + str(age) + \" is born...\")\n",
    "        self.name = name\n",
    "        self.age = age\n",
    "\n",
    "    def grow(self):\n",
    "        print(str(self.name) + \" just got more life experience\")\n",
    "        self.age += 1\n",
    "\n",
    "\n",
    "p1 = Person(\"John\", 998)\n",
    "p1.grow()\n",
    "print(p1.name)\n",
    "print(p1.age)\n",
    "\n",
    "\n",
    "#-----------------------------------------------------------\n",
    "# The Journalist class inherits Person, having everything from Person class plus its on data members & methods.\n",
    "class Journalist(Person):\n",
    "    def grow(self):\n",
    "        print(str(self.name) + \" just got more life experience and -1s\")\n",
    "        self.age -= 1\n",
    "\n",
    "    def run(self):\n",
    "        print(self.name + \"is running very fast!\")\n",
    "\n",
    "\n",
    "p1 = Journalist(\"Peter\", 60)\n",
    "p1.grow()\n",
    "p1.run()\n",
    "print(p1.age)"
   ]
  },
  {
   "cell_type": "markdown",
   "metadata": {},
   "source": [
    "### Exercise\n",
    "Write classes of Person, Rock, Paper, Scissor, HandGrenade, and a function accpeting two classes and print out the winner. "
   ]
  },
  {
   "cell_type": "code",
   "execution_count": null,
   "metadata": {},
   "outputs": [],
   "source": [
    "# Write your code here"
   ]
  },
  {
   "cell_type": "markdown",
   "metadata": {},
   "source": [
    "### Imports\n",
    "The keyword imports allows you to use external libiaries.\n",
    "\n",
    "NumPy is a Python library that is used in many, many, and many places. If you apply for a job that requires\n",
    "Python proficiency, you probably want to tell them you are proficient in Python. It's also a library\n",
    "that we often used in Robotics. We will use NumPy as an example here and will go in-depth in the next section."
   ]
  },
  {
   "cell_type": "code",
   "execution_count": null,
   "metadata": {},
   "outputs": [],
   "source": [
    "# This will install a commonly used multi-dimensional data operation libriary for you\n",
    "!pip3 install numpy -U"
   ]
  },
  {
   "cell_type": "code",
   "execution_count": 20,
   "metadata": {
    "scrolled": true
   },
   "outputs": [
    {
     "name": "stdout",
     "output_type": "stream",
     "text": [
      "[[[0.5917733  0.26483232 0.22319002 ... 0.15359688 0.79877117 0.10093683]\n",
      "  [0.61922413 0.33395184 0.89739604 ... 0.33218755 0.03730845 0.56378666]\n",
      "  [0.55091185 0.17897728 0.47317831 ... 0.87429092 0.25719995 0.90529553]\n",
      "  ...\n",
      "  [0.23395162 0.72624719 0.79837007 ... 0.29419035 0.0320014  0.60511432]\n",
      "  [0.36658616 0.36238907 0.42526047 ... 0.11118535 0.6866005  0.12728272]\n",
      "  [0.73808673 0.74173268 0.76367836 ... 0.86521171 0.88536213 0.11994832]]\n",
      "\n",
      " [[0.70948564 0.98550591 0.0106099  ... 0.2108994  0.08267362 0.69733586]\n",
      "  [0.79194467 0.1955801  0.3424576  ... 0.40595095 0.98159519 0.87676878]\n",
      "  [0.62810227 0.52059335 0.90368544 ... 0.4148104  0.82198486 0.29216477]\n",
      "  ...\n",
      "  [0.26195137 0.55451375 0.13133525 ... 0.47758371 0.70599293 0.92744317]\n",
      "  [0.59444495 0.53808881 0.1335833  ... 0.81947575 0.17930111 0.95869878]\n",
      "  [0.32228377 0.71223617 0.552702   ... 0.65512542 0.4615767  0.63755641]]\n",
      "\n",
      " [[0.74105493 0.87593137 0.17270647 ... 0.59786121 0.47343534 0.34729517]\n",
      "  [0.46958628 0.90211039 0.10981507 ... 0.8757312  0.33523316 0.04212166]\n",
      "  [0.19124984 0.32557897 0.3258028  ... 0.77288795 0.85787199 0.32331159]\n",
      "  ...\n",
      "  [0.73764175 0.56774289 0.58801593 ... 0.92435014 0.25087598 0.3167507 ]\n",
      "  [0.7892885  0.44149199 0.77002162 ... 0.44842192 0.99171855 0.94844182]\n",
      "  [0.84368752 0.20987042 0.98386063 ... 0.48254574 0.74903997 0.44671324]]\n",
      "\n",
      " ...\n",
      "\n",
      " [[0.20182642 0.14003027 0.86581892 ... 0.20523364 0.89190734 0.25320805]\n",
      "  [0.04914076 0.78281455 0.86245137 ... 0.43799426 0.81847477 0.12414532]\n",
      "  [0.92475204 0.80012645 0.82762304 ... 0.03328076 0.99896637 0.04248014]\n",
      "  ...\n",
      "  [0.30469178 0.63765116 0.94993159 ... 0.58125758 0.30507963 0.33639147]\n",
      "  [0.46787236 0.86877005 0.9745035  ... 0.9340101  0.51868965 0.35776257]\n",
      "  [0.54442923 0.17110881 0.94663535 ... 0.81998401 0.41670666 0.64790325]]\n",
      "\n",
      " [[0.18017188 0.70072141 0.22912476 ... 0.92020288 0.91823573 0.6874871 ]\n",
      "  [0.02389948 0.35669191 0.08837807 ... 0.19840721 0.0346536  0.24207406]\n",
      "  [0.31939239 0.78924645 0.28155455 ... 0.85246958 0.8059792  0.59792259]\n",
      "  ...\n",
      "  [0.81808084 0.00641201 0.8622792  ... 0.01444751 0.08167906 0.98538412]\n",
      "  [0.99396897 0.49504339 0.42427846 ... 0.04938577 0.20085643 0.13591745]\n",
      "  [0.6299915  0.55791783 0.09427367 ... 0.37374482 0.64947583 0.88494116]]\n",
      "\n",
      " [[0.72332436 0.79168934 0.39630569 ... 0.58332003 0.33587455 0.93228023]\n",
      "  [0.00911453 0.18820169 0.20951645 ... 0.43098545 0.61825786 0.42064893]\n",
      "  [0.28799452 0.70844225 0.8696541  ... 0.30102721 0.97408558 0.01259415]\n",
      "  ...\n",
      "  [0.52675325 0.73618697 0.21351959 ... 0.67415055 0.32858693 0.35312509]\n",
      "  [0.11666005 0.68547616 0.4276041  ... 0.08598006 0.22825659 0.3773384 ]\n",
      "  [0.19262365 0.59941367 0.35168116 ... 0.40010334 0.48379405 0.80729992]]]\n"
     ]
    }
   ],
   "source": [
    "import numpy as np\n",
    "from numpy import random\n",
    "\n",
    "arr = np.zeros([19, 23, 31]) \n",
    "arr += random.rand(*[19, 23, 31]) # This way we can use functions otherwise unavail to us\n",
    "\n",
    "print(arr)\n",
    "\n",
    "# We will probably cover more usage of various libiaries later"
   ]
  },
  {
   "cell_type": "markdown",
   "metadata": {},
   "source": [
    "### MP0.1\n",
    "\n",
    "Implement factorial\n",
    "$$k! = k \\cdot (k - 1) \\cdot \\cdots \\cdot 2 \\cdot 1 \\quad \\text{for } k \\in \\mathbb{Z}_{>0}$$\n",
    "as recursive and iterative functions."
   ]
  },
  {
   "cell_type": "code",
   "execution_count": null,
   "metadata": {},
   "outputs": [],
   "source": [
    "# Your code here for MP0.1"
   ]
  },
  {
   "cell_type": "markdown",
   "metadata": {},
   "source": [
    "### MP0.2\n",
    "\n",
    "Implement a function `corn_plz` such that it returns `True` when you have **more corns** than other things in the input.\n",
    "Note that the input is provided by some shitty code and is in one string for some reason.\n",
    "\n",
    "Example input and expected output:\n",
    "```\n",
    "my_input = \"corn55rice2chicken33beef2sushi5\"\n",
    "corn_plz(my_input) # return True\n",
    "\n",
    "my_input = \"rice5435corn111water56438frenchfries1231orange543245235423532mango1221\"\n",
    "corn_plz(my_input) # return False\n",
    "```"
   ]
  },
  {
   "cell_type": "code",
   "execution_count": null,
   "metadata": {},
   "outputs": [],
   "source": [
    "# Your code here for MP0.2"
   ]
  },
  {
   "cell_type": "markdown",
   "metadata": {},
   "source": [
    "### MP0.3\n",
    "\n",
    "This is a reading assignment. You don't have to write any code for this.\n",
    "\n",
    "http://sthurlow.com/python/lesson06/"
   ]
  },
  {
   "cell_type": "markdown",
   "metadata": {},
   "source": [
    "## Finally...\n",
    "\n",
    "After finishing this iPython notebook, you should be able to know a little about the interpretive nature (doesn't require compilation) of Python and basic operations in Python. However, there's still much to be learned (for example, list comprehensions/syntactic sugar and so on...). Feel free to ask someone who is familiar with Python!"
   ]
  }
 ],
 "metadata": {
  "kernelspec": {
   "display_name": "Python 3",
   "language": "python",
   "name": "python3"
  },
  "language_info": {
   "codemirror_mode": {
    "name": "ipython",
    "version": 3
   },
   "file_extension": ".py",
   "mimetype": "text/x-python",
   "name": "python",
   "nbconvert_exporter": "python",
   "pygments_lexer": "ipython3",
   "version": "3.7.4"
  },
  "latex_envs": {
   "LaTeX_envs_menu_present": true,
   "autoclose": true,
   "autocomplete": true,
   "bibliofile": "biblio.bib",
   "cite_by": "apalike",
   "current_citInitial": 1,
   "eqLabelWithNumbers": true,
   "eqNumInitial": 1,
   "hotkeys": {
    "equation": "Ctrl-E",
    "itemize": "Ctrl-I"
   },
   "labels_anchors": false,
   "latex_user_defs": false,
   "report_style_numbering": false,
   "user_envs_cfg": false
  },
  "varInspector": {
   "cols": {
    "lenName": 16,
    "lenType": 16,
    "lenVar": 40
   },
   "kernels_config": {
    "python": {
     "delete_cmd_postfix": "",
     "delete_cmd_prefix": "del ",
     "library": "var_list.py",
     "varRefreshCmd": "print(var_dic_list())"
    },
    "r": {
     "delete_cmd_postfix": ") ",
     "delete_cmd_prefix": "rm(",
     "library": "var_list.r",
     "varRefreshCmd": "cat(var_dic_list()) "
    }
   },
   "types_to_exclude": [
    "module",
    "function",
    "builtin_function_or_method",
    "instance",
    "_Feature"
   ],
   "window_display": false
  }
 },
 "nbformat": 4,
 "nbformat_minor": 2
}
