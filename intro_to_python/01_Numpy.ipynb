{
 "cells": [
  {
   "cell_type": "markdown",
   "metadata": {},
   "source": [
    "## Introduction\n",
    "\n",
    "NumPy is probably the most popular package in Python for scientific computation. In this notebook, we provide some basic introduction to some frequently used functions in NumPy.\n",
    "\n",
    "If you have followed instructions from that last notebook properly, then you should have NumPy installed by now."
   ]
  },
  {
   "cell_type": "code",
   "execution_count": null,
   "metadata": {},
   "outputs": [],
   "source": [
    "# import NumPy!\n",
    "import numpy as np\n",
    "import time"
   ]
  },
  {
   "cell_type": "markdown",
   "metadata": {},
   "source": [
    "### Scalars\n",
    "\n",
    "NumPy handles tensors of any shape and data type. When the shape is $(1,)$ (i.e. contains a single number) NumPy works on scalars."
   ]
  },
  {
   "cell_type": "code",
   "execution_count": null,
   "metadata": {},
   "outputs": [],
   "source": [
    "scalar_a = np.array(1)\n",
    "scalar_b = np.array(2)\n",
    "print(scalar_a + scalar_b)"
   ]
  },
  {
   "cell_type": "code",
   "execution_count": null,
   "metadata": {},
   "outputs": [],
   "source": [
    "# Data type conversion\n",
    "scalar_c = np.array(5.98)\n",
    "print(scalar_c.dtype)\n",
    "print(scalar_c)\n",
    "scalar_c_but_int = scalar_c.astype(np.int)\n",
    "print(scalar_c_but_int.dtype)\n",
    "print(scalar_c_but_int)"
   ]
  },
  {
   "cell_type": "markdown",
   "metadata": {},
   "source": [
    "### Vector\n",
    "\n",
    "NumPy provides great supports for vectors."
   ]
  },
  {
   "cell_type": "code",
   "execution_count": null,
   "metadata": {},
   "outputs": [],
   "source": [
    "vector_a = np.array([1.2, 3.4, 3.1415])\n",
    "vector_b = np.array([3, 4, 5])\n",
    "# Element-wise vector addition\n",
    "print(vector_a + vector_b)"
   ]
  },
  {
   "cell_type": "code",
   "execution_count": null,
   "metadata": {},
   "outputs": [],
   "source": [
    "# Element-wise vector multiplication\n",
    "print(vector_a * vector_b)"
   ]
  },
  {
   "cell_type": "code",
   "execution_count": null,
   "metadata": {},
   "outputs": [],
   "source": [
    "# Element-wise vector divison\n",
    "print(vector_a / vector_b)"
   ]
  },
  {
   "cell_type": "code",
   "execution_count": null,
   "metadata": {},
   "outputs": [],
   "source": [
    "# Dot product\n",
    "print(vector_a @ vector_b)"
   ]
  },
  {
   "cell_type": "markdown",
   "metadata": {},
   "source": [
    "How do we figure out how many elements are there in a vector? We can use the standard *len* function"
   ]
  },
  {
   "cell_type": "code",
   "execution_count": null,
   "metadata": {},
   "outputs": [],
   "source": [
    "print(\"Number of elements: {}\".format(len(vector_a)))"
   ]
  },
  {
   "cell_type": "markdown",
   "metadata": {},
   "source": [
    "Or, alternatively, you can try to impress others by using the more general *shape* attribute in NumPy arrays:"
   ]
  },
  {
   "cell_type": "code",
   "execution_count": null,
   "metadata": {},
   "outputs": [],
   "source": [
    "print(\"Shape of vector: {}\".format(vector_a.shape))"
   ]
  },
  {
   "cell_type": "markdown",
   "metadata": {},
   "source": [
    "### Matrix\n",
    "\n",
    "Matrices are just NumPy arrays with shape (rows, cols)"
   ]
  },
  {
   "cell_type": "code",
   "execution_count": null,
   "metadata": {},
   "outputs": [],
   "source": [
    "mat_a = np.array(\n",
    "    [[1, 2],\n",
    "    [3, 4]]\n",
    ")\n",
    "print(mat_a)"
   ]
  },
  {
   "cell_type": "code",
   "execution_count": null,
   "metadata": {},
   "outputs": [],
   "source": [
    "# np.ones is a function that generates a new numpy array with given shape\n",
    "# and every element being 1.\n",
    "# np.zeros should be pretty straightforward to be guessed given the context.\n",
    "mat_b = np.ones((2, 2))\n",
    "print(mat_b)"
   ]
  },
  {
   "cell_type": "code",
   "execution_count": null,
   "metadata": {},
   "outputs": [],
   "source": [
    "# Element-wise matrix addition\n",
    "print(mat_a + mat_b)"
   ]
  },
  {
   "cell_type": "code",
   "execution_count": null,
   "metadata": {},
   "outputs": [],
   "source": [
    "# Matrix multiplication\n",
    "print(mat_a @ mat_b)"
   ]
  },
  {
   "cell_type": "markdown",
   "metadata": {},
   "source": [
    "### General arrays (a.k.a. tensors)"
   ]
  },
  {
   "cell_type": "code",
   "execution_count": null,
   "metadata": {},
   "outputs": [],
   "source": [
    "tensor_a = np.ones((2, 2, 3))\n",
    "print(tensor_a)"
   ]
  },
  {
   "cell_type": "markdown",
   "metadata": {},
   "source": [
    "### Vectorized operations\n",
    "\n",
    "If you have taken CS233, then you probably know what this means and this section will serve merely illustrative purpose. Don't panic if you haven't! We are here to demo it for you."
   ]
  },
  {
   "cell_type": "markdown",
   "metadata": {},
   "source": [
    "Vectorized computation is a crucial component in modern computer architecture. Put it simply, vectorized operations **speed up** computation by doing them parallelly - even on CPU! This is the most important reason why researchers and industries are using NumPy instead of writing up their own computation code."
   ]
  },
  {
   "cell_type": "markdown",
   "metadata": {},
   "source": [
    "Let's look at this simple example. Suppose you are given a list *sum_list* which contains **10 million elements**. Your task is to figure out the sum of all elements in this list."
   ]
  },
  {
   "cell_type": "code",
   "execution_count": null,
   "metadata": {},
   "outputs": [],
   "source": [
    "sum_list = np.random.random((10000000,))\n",
    "print(sum_list.shape) # Get array shape\n",
    "print(sum_list[:10])  # Preview the first 10 elements out of 10000000 elements"
   ]
  },
  {
   "cell_type": "markdown",
   "metadata": {},
   "source": [
    "The most **straightforward but naive way** to do this would be:"
   ]
  },
  {
   "cell_type": "code",
   "execution_count": null,
   "metadata": {},
   "outputs": [],
   "source": [
    "ticker = time.time() # Time how long this is gonna take\n",
    "my_sum = 0\n",
    "for element in sum_list:\n",
    "    my_sum = my_sum + element\n",
    "time_elapsed = time.time() - ticker\n",
    "print(\"Sum result is: {}\".format(my_sum))\n",
    "print(\"Total computation took: {} seconds\".format(time_elapsed))"
   ]
  },
  {
   "cell_type": "markdown",
   "metadata": {},
   "source": [
    "This is taking a bit too long! Computers are supposed to do everything in milliseconds right? Luckily, we practitioners are blessed by powers of NumPy:"
   ]
  },
  {
   "cell_type": "code",
   "execution_count": null,
   "metadata": {},
   "outputs": [],
   "source": [
    "ticker = time.time()\n",
    "my_sum = np.sum(sum_list)\n",
    "time_elapsed = time.time() - ticker\n",
    "print(\"Sum result is: {}\".format(my_sum))\n",
    "print(\"Total computation took: {} seconds\".format(time_elapsed))"
   ]
  },
  {
   "cell_type": "markdown",
   "metadata": {},
   "source": [
    "So we are back into the regime of milliseconds even though there are **10 million elements**, which is good."
   ]
  },
  {
   "cell_type": "markdown",
   "metadata": {},
   "source": [
    "### MP1.1\n",
    "\n",
    "Now that you've known how *np.sum* works from previous examples, you should read this documentation to get a sense of how functions in NumPy are documented:\n",
    "\n",
    "https://numpy.org/doc/stable/reference/generated/numpy.sum.html\n",
    "\n",
    "Now, recall that we implemented a **factorial** function $f$ in MP0.1 from last notebook. Your mission, should you choose to accept it, is to create a more efficient version of **factorial** by leveraging the power of vectorized operations. You should use *np.arange* and *np.prod* in your implementation.\n",
    "\n",
    "https://numpy.org/doc/stable/reference/generated/numpy.prod.html\n",
    "https://numpy.org/doc/stable/reference/generated/numpy.arange.html\n",
    "\n",
    "Make sure that your function outputs\n",
    "$$\n",
    "f(0) = 1\\\\\n",
    "f(1) = 1\\\\\n",
    "f(4) = 24\\\\\n",
    "f(10) = 3628800\n",
    "$$\n",
    "\n",
    "Note: for number that is very large, the NumPy implementation may not give correct result due to its use of fixed precision representation; while naive implementation in Python should adapt to arbitrarily large number. In a word, you don't need to test the output on large $n$ in $f(n)$. Just make sure it works on above test cases."
   ]
  },
  {
   "cell_type": "code",
   "execution_count": null,
   "metadata": {},
   "outputs": [],
   "source": [
    "# TODO"
   ]
  },
  {
   "cell_type": "markdown",
   "metadata": {},
   "source": [
    "### MP1.2\n",
    "\n",
    "Using the ticker technique from examples above (the *time.time* function), you need to compare the time performance of the vectorized function from MP1.1 and the naive iterative function from MP0.1. You should expect to see considerable boost to its efficiency with vectorization.\n",
    "\n",
    "Print out the total amount of time it takes for these two different implementation to finish its job. We need a large number, so compute $100000!$ and $1000000!$ with your factorial functions.\n",
    "\n",
    "**Important note: again, vectorized NumPy implementation does not adapt to large number as we discussed. Therefore, it will throw out $0$ as return. This is expected. In this part, just measure their efficiency with timer.**"
   ]
  },
  {
   "cell_type": "code",
   "execution_count": null,
   "metadata": {},
   "outputs": [],
   "source": [
    "# TODO: copy and paste your solution to MP0.1 here"
   ]
  },
  {
   "cell_type": "code",
   "execution_count": null,
   "metadata": {},
   "outputs": [],
   "source": [
    "# TODO: compare time"
   ]
  }
 ],
 "metadata": {
  "kernelspec": {
   "display_name": "Python 3",
   "language": "python",
   "name": "python3"
  },
  "language_info": {
   "codemirror_mode": {
    "name": "ipython",
    "version": 3
   },
   "file_extension": ".py",
   "mimetype": "text/x-python",
   "name": "python",
   "nbconvert_exporter": "python",
   "pygments_lexer": "ipython3",
   "version": "3.6.9"
  }
 },
 "nbformat": 4,
 "nbformat_minor": 2
}
