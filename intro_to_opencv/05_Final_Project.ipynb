{
 "cells": [
  {
   "cell_type": "markdown",
   "metadata": {},
   "source": [
    "## Introduction\n",
    "\n",
    "In this final project, you will use what you learned so far to create an algorithm to detect the armor boards of RoboMaster Infantry robots."
   ]
  },
  {
   "cell_type": "code",
   "execution_count": null,
   "metadata": {},
   "outputs": [],
   "source": [
    "import cv2\n",
    "import numpy as np\n",
    "import matplotlib as mpl\n",
    "import matplotlib.pyplot as plt"
   ]
  },
  {
   "cell_type": "code",
   "execution_count": null,
   "metadata": {},
   "outputs": [],
   "source": [
    "def my_imshow(img):\n",
    "    if len(img.shape) == 3: # RGB image\n",
    "        temp_img = cv2.cvtColor(img, cv2.COLOR_BGR2RGB)\n",
    "        plt.imshow(temp_img)\n",
    "    else: # black and white image\n",
    "        plt.imshow(img, cmap = 'gray')"
   ]
  },
  {
   "cell_type": "markdown",
   "metadata": {},
   "source": [
    "### Final Project 1.1\n",
    "\n",
    "Combine what we have discussed in previous notebooks. Design a detection algorithm for the following image such that the algorithm can **perfectly detect all three blue light bars**. Use your code from MP4.1. Furthermore, you must refer to:\n",
    "\n",
    "https://docs.opencv.org/3.4/dd/d49/tutorial_py_contour_features.html\n",
    "\n",
    "and highlight these light bars on a new image using rectangular bounding boxes."
   ]
  },
  {
   "cell_type": "code",
   "execution_count": null,
   "metadata": {},
   "outputs": [],
   "source": [
    "img = cv2.imread('./imgs/rm_robot.jpg')\n",
    "my_imshow(img)"
   ]
  },
  {
   "cell_type": "code",
   "execution_count": null,
   "metadata": {},
   "outputs": [],
   "source": [
    "# Your code goes here..."
   ]
  },
  {
   "cell_type": "markdown",
   "metadata": {},
   "source": [
    "### Final Project 1.2\n",
    "\n",
    "Adapt your code from last part so that the detector **perfectly detects all red light bars** in the following image. Similar to final project 1.1, you must show your result by overlaying rectangular bounding boxes on red light bars."
   ]
  },
  {
   "cell_type": "code",
   "execution_count": null,
   "metadata": {},
   "outputs": [],
   "source": [
    "img = cv2.imread('./imgs/irm_robot.jpg')\n",
    "my_imshow(img)"
   ]
  },
  {
   "cell_type": "code",
   "execution_count": null,
   "metadata": {},
   "outputs": [],
   "source": [
    "# Your code goes here"
   ]
  },
  {
   "cell_type": "markdown",
   "metadata": {},
   "source": [
    "### Final Project 1.3\n",
    "\n",
    "You don't have to write any code for this section. Instead, please contemplate the following questions:\n",
    "\n",
    "- Besides adapting the code from running on blue channel to red channel, what other things have you changed?\n",
    "- What are the factors that caused these changes?\n",
    "- Do you think these factors would affect the performance of the designed algorithm if the robot is presented to a different environment other than the training environment?"
   ]
  },
  {
   "cell_type": "markdown",
   "metadata": {},
   "source": [
    "Your answer goes here:\n",
    "\n",
    "- \n",
    "- \n",
    "- "
   ]
  }
 ],
 "metadata": {
  "kernelspec": {
   "display_name": "Python 3",
   "language": "python",
   "name": "python3"
  },
  "language_info": {
   "codemirror_mode": {
    "name": "ipython",
    "version": 3
   },
   "file_extension": ".py",
   "mimetype": "text/x-python",
   "name": "python",
   "nbconvert_exporter": "python",
   "pygments_lexer": "ipython3",
   "version": "3.6.9"
  }
 },
 "nbformat": 4,
 "nbformat_minor": 2
}
