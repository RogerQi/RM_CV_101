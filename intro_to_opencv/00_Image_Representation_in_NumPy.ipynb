{
 "cells": [
  {
   "cell_type": "markdown",
   "metadata": {},
   "source": [
    "## Introduction\n",
    "\n",
    "Welcome to RMCV 101 week 2 - Intro to OpenCV. In this submodule, we will talk about basics of computer vision. We will start by introducing representation of images in computer. More specifically, how images are usually handled in Python. Then we will cover basic image operations such as binirization, gaussian blur, and morphological operations. Finally, you will learn about some classic CV algorithms such as\n",
    "\n",
    "- findContour\n",
    "- Template\n",
    "- Edge detect\n",
    "\n",
    "and how are Deep Learning and traditional CV related to each other.\n",
    "\n",
    "### Prerequisites\n",
    "\n",
    "- Basic understanding of Python/Jupyter Notebook/NumPy\n",
    "\n",
    "<img src=\"https://opencv.org/wp-content/uploads/2019/02/opencv-logo-1.png\" alt=\"drawing\" width=\"150\"/>\n",
    "\n",
    "Let's begin, shall we?"
   ]
  },
  {
   "cell_type": "markdown",
   "metadata": {},
   "source": [
    "### Pixel Representation\n",
    "\n",
    "You may have seen this before when you were taking screenshot or trying to adjust the color on a webpage:\n",
    "\n",
    "<img src=\"./imgs/00_pixel_representation.png\" alt=\"drawing\" width=\"200\"/>\n",
    "\n",
    "Just like how artists create color by mixing existing colors from their palette, this \"RGB\" representation works by 'mixing' R(Red)/G(Green)/B(Blue). It's a common practice for handling colors in the computer. For some historical reason, RGB values range from 0-255 (which takes exactly 1 byte in the memory).\n",
    "\n",
    "*Fun fact #1*: CV neural networks often takes in RGB values to percept images.\n",
    "\n",
    "*Fun fact #2*: As digital arts progress (digital photography, for example), artists and designers start to think that the RGB color space (which can only encodes $2^8 \\cdot 2^8 \\cdot 2^8 = 16777216$ color variants) is not enough. Therefore 'wider' color space is being introduced into the industry. The P-3 color space used in Apple's new high-end products is a good example.\n",
    "\n",
    "Let's create a pixel!"
   ]
  },
  {
   "cell_type": "code",
   "execution_count": 8,
   "metadata": {},
   "outputs": [
    {
     "name": "stdout",
     "output_type": "stream",
     "text": [
      "[[[255   0   0]]]\n"
     ]
    }
   ],
   "source": [
    "import numpy as np\n",
    "import cv2\n",
    "\n",
    "a = np.zeros((1, 1, 3), dtype = \"uint8\")\n",
    "# Set the RGB value... play with this if you want!\n",
    "a[0, 0, 0] = 255 # R\n",
    "a[0, 0, 1] = 0   # G\n",
    "a[0, 0, 2] = 0   # B\n",
    "print(a)"
   ]
  },
  {
   "cell_type": "markdown",
   "metadata": {},
   "source": [
    "We should have a red pixel by now! However, it's boring to see it in boring numbers... Luckily, Python has a commonly used library called `matplotlib` that can be used to plot this image."
   ]
  },
  {
   "cell_type": "code",
   "execution_count": 9,
   "metadata": {},
   "outputs": [
    {
     "data": {
      "text/plain": [
       "<matplotlib.image.AxesImage at 0x12ab20650>"
      ]
     },
     "execution_count": 9,
     "metadata": {},
     "output_type": "execute_result"
    },
    {
     "data": {
      "image/png": "[encoded data removed]",
      "text/plain": [
       "<Figure size 432x288 with 1 Axes>"
      ]
     },
     "metadata": {
      "needs_background": "light"
     },
     "output_type": "display_data"
    }
   ],
   "source": [
    "import matplotlib.pyplot as plt\n",
    "\n",
    "plt.imshow(a)"
   ]
  },
  {
   "cell_type": "markdown",
   "metadata": {},
   "source": [
    "### Image Representation\n",
    "\n",
    "Now that you know how pixels are represented in the computer, it's time to think about this in a more practical setting - how are **images** represented? The natural and the intuitive way to think about this is to put pixels in a matrix.\n",
    "\n",
    "RGB Images are often arrgened in a matrix (or tensor) of shape $H \\times W \\cdots C$, where $H$ is its height in terms of pixel, $W$ is its width, and $C$ is the number of channels (in RGB image, $C = 3$)."
   ]
  },
  {
   "cell_type": "code",
   "execution_count": 6,
   "metadata": {},
   "outputs": [
    {
     "data": {
      "text/plain": [
       "<matplotlib.image.AxesImage at 0x12aac2490>"
      ]
     },
     "execution_count": 6,
     "metadata": {},
     "output_type": "execute_result"
    },
    {
     "data": {
      "image/png": "[encoded data removed]",
      "text/plain": [
       "<Figure size 432x288 with 1 Axes>"
      ]
     },
     "metadata": {
      "needs_background": "light"
     },
     "output_type": "display_data"
    }
   ],
   "source": [
    "a = np.ones((4, 4, 3)) * 255\n",
    "a[3, 3, 0] = 10  # R of pixel at (3, 3)\n",
    "a[3, 3, 1] = 120 # G of pixel at (3, 3)\n",
    "a[3, 3, 2] = 255 # B of pixel at (3, 3)\n",
    "\n",
    "a[2, 1, 0] = 0\n",
    "a[2, 1, 1] = 0\n",
    "a[2, 1, 2] = 255\n",
    "a = a.astype(\"uint8\")\n",
    "plt.imshow(a)"
   ]
  }
 ],
 "metadata": {
  "kernelspec": {
   "display_name": "Python 3",
   "language": "python",
   "name": "python3"
  },
  "language_info": {
   "codemirror_mode": {
    "name": "ipython",
    "version": 3
   },
   "file_extension": ".py",
   "mimetype": "text/x-python",
   "name": "python",
   "nbconvert_exporter": "python",
   "pygments_lexer": "ipython3",
   "version": "3.7.4"
  }
 },
 "nbformat": 4,
 "nbformat_minor": 2
}
