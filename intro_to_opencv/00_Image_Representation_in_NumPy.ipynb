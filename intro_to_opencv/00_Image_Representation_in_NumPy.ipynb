{
 "cells": [
  {
   "cell_type": "markdown",
   "metadata": {},
   "source": [
    "## Introduction\n",
    "\n",
    "Welcome to RMCV 101 week 2 - Intro to OpenCV. In this submodule, we will talk about basics of computer vision. We will start by introducing representation of images in computer. More specifically, how images are usually handled in Python. Then we will cover basic image operations such as binirization, gaussian blur, and morphological operations. Finally, you will learn about some classic CV algorithms such as\n",
    "\n",
    "- findContour\n",
    "- Template\n",
    "- Edge detect\n",
    "\n",
    "and how are Deep Learning and traditional CV related to each other.\n",
    "\n",
    "### Prerequisites\n",
    "\n",
    "- Basic understanding of Python/Jupyter Notebook/NumPy\n",
    "\n",
    "<img src=\"https://opencv.org/wp-content/uploads/2019/02/opencv-logo-1.png\" alt=\"drawing\" width=\"150\"/>\n",
    "\n",
    "Let's begin, shall we?"
   ]
  },
  {
   "cell_type": "code",
   "execution_count": null,
   "metadata": {},
   "outputs": [],
   "source": []
  }
 ],
 "metadata": {
  "kernelspec": {
   "display_name": "Python 3",
   "language": "python",
   "name": "python3"
  },
  "language_info": {
   "codemirror_mode": {
    "name": "ipython",
    "version": 3
   },
   "file_extension": ".py",
   "mimetype": "text/x-python",
   "name": "python",
   "nbconvert_exporter": "python",
   "pygments_lexer": "ipython3",
   "version": "3.7.4"
  }
 },
 "nbformat": 4,
 "nbformat_minor": 2
}
