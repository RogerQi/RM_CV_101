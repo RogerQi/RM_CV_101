{
 "cells": [
  {
   "cell_type": "markdown",
   "metadata": {},
   "source": [
    "## Introduction\n",
    "\n",
    "In this notebook, we introduce morphological operations, which is a very useful tools in image processing.\n",
    "\n",
    "Acknowledgement: this notebook is based on https://docs.opencv.org/master/d9/d61/tutorial_py_morphological_ops.html"
   ]
  },
  {
   "cell_type": "code",
   "execution_count": null,
   "metadata": {},
   "outputs": [],
   "source": [
    "import cv2\n",
    "import numpy as np\n",
    "import matplotlib as mpl\n",
    "import matplotlib.pyplot as plt"
   ]
  },
  {
   "cell_type": "code",
   "execution_count": null,
   "metadata": {},
   "outputs": [],
   "source": [
    "def my_imshow(img):\n",
    "    if len(img.shape) == 3: # RGB image\n",
    "        temp_img = cv2.cvtColor(img, cv2.COLOR_BGR2RGB)\n",
    "        plt.imshow(temp_img)\n",
    "    else: # black and white image\n",
    "        plt.imshow(img, cmap = 'gray')"
   ]
  },
  {
   "cell_type": "markdown",
   "metadata": {},
   "source": [
    "### Theory\n",
    "\n",
    "Morphological transformations are some simple operations based on the image shape. It is normally performed on binary images. It needs two inputs, one is our original image, second one is called **structuring element** or **kernel** which decides the nature of operation. Two basic morphological operators are Erosion and Dilation. Then its variant forms like Opening, Closing, Gradient etc also comes into play. We will see them one-by-one with help of following image:"
   ]
  },
  {
   "cell_type": "code",
   "execution_count": null,
   "metadata": {},
   "outputs": [],
   "source": [
    "img = cv2.imread('./imgs/j.png',0)\n",
    "kernel = np.ones((5, 5), np.uint8)\n",
    "my_imshow(img)"
   ]
  },
  {
   "cell_type": "markdown",
   "metadata": {},
   "source": [
    "### Erosion\n",
    "\n",
    "The basic idea of erosion is just like soil erosion only, it erodes away the boundaries of foreground object (Always try to keep foreground in white). So what it does? The kernel slides through the image (as in 2D convolution). A pixel in the original image (either 1 or 0) will be considered 1 only if all the pixels under the kernel is 1, otherwise it is eroded (made to zero).\n",
    "\n",
    "So what happends is that, all the pixels near boundary will be discarded depending upon the size of kernel. So the thickness or size of the foreground object decreases or simply white region decreases in the image. It is useful for removing small white noises (as we have seen in colorspace chapter), detach two connected objects etc.\n",
    "\n",
    "Here, as an example, I would use a 5x5 kernel with full of ones. Let's see it how it works:"
   ]
  },
  {
   "cell_type": "code",
   "execution_count": null,
   "metadata": {},
   "outputs": [],
   "source": [
    "erosion = cv2.erode(img, kernel, iterations = 1)\n",
    "my_imshow(erosion)"
   ]
  },
  {
   "cell_type": "markdown",
   "metadata": {},
   "source": [
    "### Dilation\n",
    "\n",
    "It is just opposite of erosion. Here, a pixel element is '1' if atleast one pixel under the kernel is '1'. So it increases the white region in the image or size of foreground object increases. Normally, in cases like noise removal, erosion is followed by dilation. Because, erosion removes white noises, but it also shrinks our object. So we dilate it. Since noise is gone, they won't come back, but our object area increases. It is also useful in joining broken parts of an object."
   ]
  },
  {
   "cell_type": "code",
   "execution_count": null,
   "metadata": {},
   "outputs": [],
   "source": [
    "dilation = cv2.dilate(img, kernel, iterations = 1)\n",
    "my_imshow(dilation)"
   ]
  },
  {
   "cell_type": "markdown",
   "metadata": {},
   "source": [
    "### Opening\n",
    "Opening is just another name of **erosion followed by dilation**. It is useful in removing noise, as we explained above. Here we use the function, *cv.morphologyEx()*"
   ]
  },
  {
   "cell_type": "code",
   "execution_count": null,
   "metadata": {},
   "outputs": [],
   "source": [
    "# Create a noisy j image\n",
    "H, W = img.shape\n",
    "num_noises = 20\n",
    "h_coords = np.random.randint(low = 0, high = H - 1, size = num_noises)\n",
    "w_coords = np.random.randint(low = 0, high = W - 1, size = num_noises)\n",
    "noisy_j = img.copy()\n",
    "for i in range(num_noises):\n",
    "    noisy_j[h_coords[i], w_coords[i]] = 255\n",
    "\n",
    "my_imshow(noisy_j)"
   ]
  },
  {
   "cell_type": "code",
   "execution_count": null,
   "metadata": {},
   "outputs": [],
   "source": [
    "opening = cv2.morphologyEx(noisy_j, cv2.MORPH_OPEN, kernel)\n",
    "my_imshow(opening) # recovered from noises!"
   ]
  },
  {
   "cell_type": "markdown",
   "metadata": {},
   "source": [
    "### Closing\n",
    "\n",
    "Closing is reverse of Opening, **Dilation followed by Erosion**. It is useful in closing small holes inside the foreground objects, or small black points on the object."
   ]
  },
  {
   "cell_type": "code",
   "execution_count": null,
   "metadata": {},
   "outputs": [],
   "source": [
    "# Create a noisy j image\n",
    "H, W = img.shape\n",
    "num_noises = 100\n",
    "h_coords = np.random.randint(low = 0, high = H - 1, size = num_noises)\n",
    "w_coords = np.random.randint(low = 0, high = W - 1, size = num_noises)\n",
    "noisy_j = img.copy()\n",
    "for i in range(num_noises):\n",
    "    noisy_j[h_coords[i], w_coords[i]] = 0\n",
    "\n",
    "my_imshow(noisy_j)"
   ]
  },
  {
   "cell_type": "code",
   "execution_count": null,
   "metadata": {},
   "outputs": [],
   "source": [
    "closing = cv2.morphologyEx(noisy_j, cv2.MORPH_CLOSE, kernel)\n",
    "my_imshow(closing) # recovered from noises!"
   ]
  },
  {
   "cell_type": "markdown",
   "metadata": {},
   "source": [
    "### MP3.1\n",
    "\n",
    "In this MP, we will look back to a problem that simple binarization cannot solve.\n",
    "\n",
    "Your task is to take the complicated robot image taken in real world and use binarization combined with morphological operations to filter out blue light bars."
   ]
  },
  {
   "cell_type": "code",
   "execution_count": null,
   "metadata": {},
   "outputs": [],
   "source": [
    "img = cv2.imread('./imgs/rm_robot.jpg')\n",
    "my_imshow(img)"
   ]
  },
  {
   "cell_type": "code",
   "execution_count": null,
   "metadata": {},
   "outputs": [],
   "source": [
    "blue_channel = img[:,:,0]\n",
    "\n",
    "binarized_blue = ((blue_channel > 240) * 255).astype(np.uint8)\n",
    "my_imshow(binarized_blue)"
   ]
  },
  {
   "cell_type": "code",
   "execution_count": null,
   "metadata": {},
   "outputs": [],
   "source": [
    "# Your code goes here\n",
    "# Use morphological operation to keep only 3 visible blue light bars\n",
    "# (two on the front, one on the right side) in the image\n",
    "# Hint: you may want to experiment with non-square kernel.\n"
   ]
  }
 ],
 "metadata": {
  "kernelspec": {
   "display_name": "Python 3",
   "language": "python",
   "name": "python3"
  },
  "language_info": {
   "codemirror_mode": {
    "name": "ipython",
    "version": 3
   },
   "file_extension": ".py",
   "mimetype": "text/x-python",
   "name": "python",
   "nbconvert_exporter": "python",
   "pygments_lexer": "ipython3",
   "version": "3.6.9"
  }
 },
 "nbformat": 4,
 "nbformat_minor": 2
}
