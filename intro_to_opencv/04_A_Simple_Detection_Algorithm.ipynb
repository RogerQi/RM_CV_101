{
 "cells": [
  {
   "cell_type": "markdown",
   "metadata": {},
   "source": [
    "## Introduction\n",
    "\n",
    "In this notebook, we will build a simple detection algorithm based on what we had already, and a useful new function called *findContours*. To be more precise, with binarization and morphological operations, we are now able to extract grayscale images with regions of interest (foreground) highlighted in white; while other regions (background) are black. Now we want to actually localize these objects of interest in the image.\n",
    "\n",
    "We will experiment this algorithm on the light bulb detection problem we worked on a while ago. To start with, we need to reuse code from that part."
   ]
  },
  {
   "cell_type": "code",
   "execution_count": null,
   "metadata": {},
   "outputs": [],
   "source": [
    "import cv2\n",
    "import numpy as np\n",
    "import matplotlib as mpl\n",
    "import matplotlib.pyplot as plt"
   ]
  },
  {
   "cell_type": "code",
   "execution_count": null,
   "metadata": {},
   "outputs": [],
   "source": [
    "def my_imshow(img):\n",
    "    if len(img.shape) == 3: # RGB image\n",
    "        temp_img = cv2.cvtColor(img, cv2.COLOR_BGR2RGB)\n",
    "        plt.imshow(temp_img)\n",
    "    else: # black and white image\n",
    "        plt.imshow(img, cmap = 'gray')"
   ]
  },
  {
   "cell_type": "code",
   "execution_count": null,
   "metadata": {},
   "outputs": [],
   "source": [
    "img = cv2.imread('./imgs/bulbs_in_room.jpg')\n",
    "my_imshow(img)"
   ]
  },
  {
   "cell_type": "markdown",
   "metadata": {},
   "source": [
    "Remember we also built a binarization algorithm for that. We are going to need that as well."
   ]
  },
  {
   "cell_type": "code",
   "execution_count": null,
   "metadata": {},
   "outputs": [],
   "source": [
    "hard_cutoff = 252\n",
    "# 1. Convert it to grayscale\n",
    "img_gray = cv2.cvtColor(img, cv2.COLOR_BGR2GRAY)\n",
    "# 2. Apply hard cut off\n",
    "img_binarized = (img_gray > hard_cutoff)\n",
    "# 3. Scale for display purpose\n",
    "img_binarized = (img_binarized * 255).astype(np.uint8)\n",
    "# 4. Visually inspect our result\n",
    "plt.imshow(img_binarized, cmap = 'gray')"
   ]
  },
  {
   "cell_type": "markdown",
   "metadata": {},
   "source": [
    "### How cv2.findContours works\n",
    "\n",
    "I don't want to get into the dirty details of how exactly findContours was constructed, but the big idea here is that findContours attempts to capture geometric objects in the image. Let's see it in action!"
   ]
  },
  {
   "cell_type": "code",
   "execution_count": null,
   "metadata": {},
   "outputs": [],
   "source": [
    "contours, hierarchy = cv2.findContours(img_binarized, cv2.RETR_TREE, cv2.CHAIN_APPROX_SIMPLE)\n",
    "drawn_img = cv2.drawContours(cv2.cvtColor(img_binarized, cv2.COLOR_GRAY2BGR), contours, -1, (0, 255, 0), 3)\n",
    "my_imshow(drawn_img)"
   ]
  },
  {
   "cell_type": "code",
   "execution_count": null,
   "metadata": {},
   "outputs": [],
   "source": [
    "# Visualize it on original image\n",
    "drawn_img = cv2.drawContours(img, contours, -1, (0, 255, 0), 3)\n",
    "my_imshow(drawn_img)"
   ]
  },
  {
   "cell_type": "markdown",
   "metadata": {},
   "source": [
    "... which is of pretty good quality! Recall that our task was to identify functioning light bulbs. The binarization threshold we found, combined with findContours on binarized image, does this job pretty well!"
   ]
  },
  {
   "cell_type": "markdown",
   "metadata": {},
   "source": [
    "However, do note that, if you look close enough on the results visualized by the drawContours function above, you will notice that there are a few little green dots that do not belong to functioning light bulbs. This is not uncommon when we design CV algorithm in this approach. In fact, we can try,"
   ]
  },
  {
   "cell_type": "code",
   "execution_count": null,
   "metadata": {},
   "outputs": [],
   "source": [
    "print(\"Number of functioning light bulbs: {}\".format(len(contours)))"
   ]
  },
  {
   "cell_type": "markdown",
   "metadata": {},
   "source": [
    "which makes absolutely nonsense!"
   ]
  },
  {
   "cell_type": "markdown",
   "metadata": {},
   "source": [
    "Observe that, the real functioning light bulbs are usually emitting lights such that it occupies a large region in the binarized image, while the noises occupy little to no area. Recall the morphological operations from last notebook. We can apply those operations to get rid of the noises!"
   ]
  },
  {
   "cell_type": "markdown",
   "metadata": {},
   "source": [
    "### Use 'Opening' followed by 'Closing' to get rid of noises"
   ]
  },
  {
   "cell_type": "code",
   "execution_count": null,
   "metadata": {},
   "outputs": [],
   "source": [
    "kernel = np.ones((5, 5), np.uint8) # kernel size needs to be carefully chosen!\n",
    "processed_img = cv2.morphologyEx(img_binarized, cv2.MORPH_OPEN, kernel)\n",
    "processed_img = cv2.morphologyEx(processed_img, cv2.MORPH_CLOSE, kernel)\n",
    "my_imshow(processed_img)"
   ]
  },
  {
   "cell_type": "code",
   "execution_count": null,
   "metadata": {},
   "outputs": [],
   "source": [
    "# Try cv2.findContours again and visualize the result\n",
    "contours, hierarchy = cv2.findContours(processed_img, cv2.RETR_TREE, cv2.CHAIN_APPROX_SIMPLE)\n",
    "drawn_img = cv2.drawContours(cv2.cvtColor(img_binarized, cv2.COLOR_GRAY2BGR), contours, -1, (0, 255, 0), 3)\n",
    "my_imshow(drawn_img)"
   ]
  },
  {
   "cell_type": "code",
   "execution_count": null,
   "metadata": {},
   "outputs": [],
   "source": [
    "# Visualize it on original image\n",
    "drawn_img = cv2.drawContours(img, contours, -1, (0, 255, 0), 3)\n",
    "print(\"Number of functioning light bulbs: {}\".format(len(contours)))\n",
    "my_imshow(drawn_img)"
   ]
  },
  {
   "cell_type": "markdown",
   "metadata": {},
   "source": [
    "which capture the number of functioning light bulbs precisely. Well done!"
   ]
  },
  {
   "cell_type": "markdown",
   "metadata": {},
   "source": [
    "### MP4.1\n",
    "\n",
    "Take your code from MP3.1, in which you used binarization and morphological operations to isolate those light bars in the image. Now, use *cv2.findContours* and *cv2.drawContours* to detect these light bars."
   ]
  },
  {
   "cell_type": "code",
   "execution_count": null,
   "metadata": {},
   "outputs": [],
   "source": [
    "# Your code goes here"
   ]
  },
  {
   "cell_type": "markdown",
   "metadata": {},
   "source": [
    "### MP4.2\n",
    "\n",
    "Examine closer to elements in the *contours* variable. What does it mean? How are contours represented? After you understand how it works, design a function that outputs the center of these light bars.\n",
    "\n",
    "Hint: compute averages of x/y coordinates."
   ]
  },
  {
   "cell_type": "code",
   "execution_count": null,
   "metadata": {},
   "outputs": [],
   "source": [
    "# Your code goes here"
   ]
  }
 ],
 "metadata": {
  "kernelspec": {
   "display_name": "Python 3",
   "language": "python",
   "name": "python3"
  },
  "language_info": {
   "codemirror_mode": {
    "name": "ipython",
    "version": 3
   },
   "file_extension": ".py",
   "mimetype": "text/x-python",
   "name": "python",
   "nbconvert_exporter": "python",
   "pygments_lexer": "ipython3",
   "version": "3.6.9"
  }
 },
 "nbformat": 4,
 "nbformat_minor": 2
}
