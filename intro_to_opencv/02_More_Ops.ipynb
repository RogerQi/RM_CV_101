{
 "cells": [
  {
   "cell_type": "markdown",
   "metadata": {},
   "source": [
    "## Introduction\n",
    "\n",
    "In this notebook, we will introduce some other commonly used functions in OpenCV"
   ]
  },
  {
   "cell_type": "code",
   "execution_count": null,
   "metadata": {},
   "outputs": [],
   "source": [
    "import cv2\n",
    "import numpy as np\n",
    "import matplotlib as mpl\n",
    "import matplotlib.pyplot as plt"
   ]
  },
  {
   "cell_type": "markdown",
   "metadata": {},
   "source": [
    "### Cropping"
   ]
  },
  {
   "cell_type": "markdown",
   "metadata": {},
   "source": [
    "Remember we talked about how images are represented as a numpy array of shape (H, W, C)? To crop an image, all we need to do is slice it in the H and the W dimension. For example, consider this image:"
   ]
  },
  {
   "cell_type": "code",
   "execution_count": null,
   "metadata": {},
   "outputs": [],
   "source": [
    "img = cv2.imread('./imgs/bulbs_in_room.jpg')\n",
    "img_rgb = cv2.cvtColor(img, cv2.COLOR_BGR2RGB)\n",
    "plt.imshow(img_rgb)"
   ]
  },
  {
   "cell_type": "markdown",
   "metadata": {},
   "source": [
    "If we want to keep only the upper left portion of the image, we can do:"
   ]
  },
  {
   "cell_type": "code",
   "execution_count": null,
   "metadata": {},
   "outputs": [],
   "source": [
    "# Keep only first 500 pixels in height; and first 600 pixels in width\n",
    "img_rgb_cropped = img_rgb[:500,:600]\n",
    "plt.imshow(img_rgb_cropped)"
   ]
  },
  {
   "cell_type": "markdown",
   "metadata": {},
   "source": [
    "### Sidenote on Computer Vision Coordinate Convention\n",
    "\n",
    "In image representation, the x-coordinate starts from the left (i.e. the index of the leftmost pixel is 0, and the index of the rightmost pixel is width - 1.). While the y-coordinate starts from the top of the image (i.e. the very top pixel in indexed as 0, while the bottom pixel has the largest index height - 1)."
   ]
  },
  {
   "cell_type": "markdown",
   "metadata": {},
   "source": [
    "### Pasting\n",
    "\n",
    "To paste image B (usually of smaller size) onto image A (usually larger), simply assign new values to desired location in image A.\n",
    "\n",
    "For example, if we want to add a piece of armor board to the above image..."
   ]
  },
  {
   "cell_type": "code",
   "execution_count": null,
   "metadata": {},
   "outputs": [],
   "source": [
    "armor_board_img = cv2.imread('./imgs/rm_blue_armor_board_no_digit.jpg')\n",
    "armor_board_img_rgb = cv2.cvtColor(armor_board_img, cv2.COLOR_BGR2RGB)\n",
    "H, W, C = armor_board_img_rgb.shape # Get height/width/channel\n",
    "temp_img = img_rgb.copy() # so that it does not mess up original img\n",
    "temp_img[100:100+H,100:100+W] = armor_board_img_rgb\n",
    "plt.imshow(temp_img)"
   ]
  },
  {
   "cell_type": "markdown",
   "metadata": {},
   "source": [
    "### Resizing\n",
    "\n",
    "The armor board looks way too big on that image, which doesn't make sense. So we want to change the size of the armor board."
   ]
  },
  {
   "cell_type": "code",
   "execution_count": null,
   "metadata": {},
   "outputs": [],
   "source": [
    "H, W, C = armor_board_img_rgb.shape\n",
    "print(\"Original Height: {} Original Width: {}\".format(H, W))"
   ]
  },
  {
   "cell_type": "code",
   "execution_count": null,
   "metadata": {},
   "outputs": [],
   "source": [
    "small_armor_board_rgb = cv2.resize(armor_board_img_rgb, (200, 200))\n",
    "H, W, C = small_armor_board_rgb.shape\n",
    "print(\"New Height: {} New Width: {}\".format(H, W))"
   ]
  },
  {
   "cell_type": "markdown",
   "metadata": {},
   "source": [
    "Let's try pasting again!"
   ]
  },
  {
   "cell_type": "code",
   "execution_count": null,
   "metadata": {},
   "outputs": [],
   "source": [
    "temp_img = img_rgb.copy() # so that it does not mess up original img\n",
    "temp_img[100:100+H,100:100+W] = small_armor_board_rgb # H, W come from last cell\n",
    "plt.imshow(temp_img)"
   ]
  },
  {
   "cell_type": "markdown",
   "metadata": {},
   "source": [
    "### Gaussian Blur\n",
    "\n",
    "Besides these basic geometric operations, there are also some filters that can be applied to images. One of the most commonly used ones, if not the most common, is Gaussian Blur.\n",
    "\n",
    "We will see what the effect of Gaussian Blur looks like in the following examples, but for more details on how exactly does Gaussian Blur work, you can check https://datacarpentry.org/image-processing/06-blurring/"
   ]
  },
  {
   "cell_type": "code",
   "execution_count": null,
   "metadata": {},
   "outputs": [],
   "source": [
    "kernel = np.ones((13, 13))\n",
    "kernel /= (13 * 13) # kernel needs to be normalized so that elements sum up to $1$\n",
    "blurred_image = cv2.filter2D(img_rgb, -1, kernel)\n",
    "plt.imshow(blurred_image)"
   ]
  },
  {
   "cell_type": "markdown",
   "metadata": {},
   "source": [
    "### MP2.1\n",
    "\n",
    "The iRM Marketing team is asking you to help them process a photo taken from RM2018 competition so that it can be used on the official iRM Instagram account, where only square images are allowed.\n",
    "\n",
    "**Task**: Take the provided image and crop it such that the resulting image\n",
    " - is square (i.e. H == W)\n",
    " - contains just the robot\n",
    "\n",
    "Hint: use cropping"
   ]
  },
  {
   "cell_type": "code",
   "execution_count": null,
   "metadata": {},
   "outputs": [],
   "source": [
    "img = cv2.imread('./imgs/irm_robot.jpg')\n",
    "img_rgb = cv2.cvtColor(img, cv2.COLOR_BGR2RGB)\n",
    "# Your code goes here"
   ]
  },
  {
   "cell_type": "markdown",
   "metadata": {},
   "source": [
    "### MP2.2\n",
    "\n",
    "To protect proprietary design in the photograph, the marketing team is asking you to blur the image.\n",
    "\n",
    "**Task**: use the output image from MP2.1, process it with Gaussian Blur of Kernel 7x7\n",
    "\n",
    "Hint: refer to Gaussian Blur section"
   ]
  },
  {
   "cell_type": "code",
   "execution_count": null,
   "metadata": {},
   "outputs": [],
   "source": [
    "# Your code goes here"
   ]
  },
  {
   "cell_type": "markdown",
   "metadata": {},
   "source": [
    "### MP2.3\n",
    "\n",
    "Finally, the marketing team asks you to watermark the image with iRM logo so that it will not be misused.\n",
    "\n",
    "**Task**: take the output image from MP2.2. *Paste* the provided logo image to upper right corner.\n",
    "\n",
    "Hint: refer to paste section above. Also, the logo **MUST BE RESIZED** to fit on the image."
   ]
  },
  {
   "cell_type": "code",
   "execution_count": null,
   "metadata": {},
   "outputs": [],
   "source": [
    "irm_logo = cv2.imread('./imgs/cs_logo.png')\n",
    "H, W, C = irm_logo.shape\n",
    "print(\"Height: {} Width: {}\".format(H, W))\n",
    "# Your code goes here"
   ]
  }
 ],
 "metadata": {
  "kernelspec": {
   "display_name": "Python 3",
   "language": "python",
   "name": "python3"
  },
  "language_info": {
   "codemirror_mode": {
    "name": "ipython",
    "version": 3
   },
   "file_extension": ".py",
   "mimetype": "text/x-python",
   "name": "python",
   "nbconvert_exporter": "python",
   "pygments_lexer": "ipython3",
   "version": "3.6.9"
  }
 },
 "nbformat": 4,
 "nbformat_minor": 2
}
